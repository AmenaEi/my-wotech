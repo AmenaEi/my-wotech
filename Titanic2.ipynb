{
  "nbformat": 4,
  "nbformat_minor": 0,
  "metadata": {
    "colab": {
      "provenance": [],
      "authorship_tag": "ABX9TyNRMsnuW5iKooB4JMi/VVuc",
      "include_colab_link": true
    },
    "kernelspec": {
      "name": "python3",
      "display_name": "Python 3"
    },
    "language_info": {
      "name": "python"
    }
  },
  "cells": [
    {
      "cell_type": "markdown",
      "metadata": {
        "id": "view-in-github",
        "colab_type": "text"
      },
      "source": [
        "<a href=\"https://colab.research.google.com/github/AmenaEi/my-wotech/blob/main/Titanic2.ipynb\" target=\"_parent\"><img src=\"https://colab.research.google.com/assets/colab-badge.svg\" alt=\"Open In Colab\"/></a>"
      ]
    },
    {
      "cell_type": "markdown",
      "source": [
        "Instructions:\n",
        "\n",
        "    1. Dataset Acquisition:\n",
        "        * Obtain the Titanic dataset. You can download it from reputable sources such as Kaggle (https://www.kaggle.com/c/titanic/data) or use datasets\n",
        "         available directly through Python libraries.\n",
        "\n",
        "    2. Exploratory Data Analysis (EDA):\n",
        "        * Load the Titanic dataset into a Pandas DataFrame.\n",
        "        * Use Pandas methods to explore and understand the dataset:\n",
        "            - Display the first few rows to get an overview of the data structure.\n",
        "            - Check the dimensions of the dataset (number of rows and columns).\n",
        "            - Identify missing values and decide on strategies for handling them.\n",
        "            - Compute basic statistics (e.g., mean, median, min, max) for numerical columns.\n",
        "            - Analyze categorical variables (e.g., value counts).\n",
        "\n",
        "    3. Data Visualization:\n",
        "        * Choose one column of the dataset that interests you\n",
        "        * Use Matplotlib pyplot to create a meaningful visualization:\n",
        "            - Select an appropriate plot type (e.g., bar chart, histogram, pie chart).\n",
        "            - Label axes, add a title.\n",
        "            - Ensure the visualization is clear, informative, and visually appealing. smile\n",
        "\n",
        "    4. Submission:\n",
        "        * You can include code snippets, comments explaining your thought process\n",
        "        * Submit your completed assignment"
      ],
      "metadata": {
        "id": "b9bgeXraiNuG"
      }
    },
    {
      "cell_type": "code",
      "execution_count": 56,
      "metadata": {
        "colab": {
          "base_uri": "https://localhost:8080/"
        },
        "id": "gAa5MJsciBsy",
        "outputId": "ae2667b2-d7f9-48c4-de92-3a4d7d91d848"
      },
      "outputs": [
        {
          "output_type": "stream",
          "name": "stdout",
          "text": [
            "   PassengerId  Survived  Pclass                        Name                          Sex     Age  SibSp  Parch       Ticket        Fare   Cabin Embarked\n",
            "0       1           0        3                              Braund, Mr. Owen Harris    male  22.0    1      0           A/5 21171   7.2500   NaN     S   \n",
            "1       2           1        1    Cumings, Mrs. John Bradley (Florence Briggs Th...  female  38.0    1      0            PC 17599  71.2833   C85     C   \n",
            "2       3           1        3                               Heikkinen, Miss. Laina  female  26.0    0      0    STON/O2. 3101282   7.9250   NaN     S   \n",
            "3       4           1        1         Futrelle, Mrs. Jacques Heath (Lily May Peel)  female  35.0    1      0              113803  53.1000  C123     S   \n"
          ]
        }
      ],
      "source": [
        "import pandas as pd\n",
        "import matplotlib.pyplot as plt\n",
        "\n",
        "titanic_df = pd.read_csv('/content/train.csv')\n",
        "\n",
        "#pd.set_option('display.colheader_justify', 'center')  #how to center-align column headers\n",
        "#pd.set_option('display.max_columns', None)  # how to show all columns without wrapping\n",
        "#pd.set_option('display.width', 1000)  # how wide the output should be\n",
        "\n",
        "print(titanic_df.head(n=4))"
      ]
    },
    {
      "cell_type": "code",
      "source": [
        "#the dimensions of the dataset (number of rows and columns)\n",
        "print(titanic_df.shape)"
      ],
      "metadata": {
        "colab": {
          "base_uri": "https://localhost:8080/"
        },
        "id": "7pyBXtqeBl-x",
        "outputId": "fd4daca4-55cb-4eee-aef0-96db0e37a6cb"
      },
      "execution_count": null,
      "outputs": [
        {
          "output_type": "stream",
          "name": "stdout",
          "text": [
            "(891, 12)\n"
          ]
        }
      ]
    },
    {
      "cell_type": "code",
      "source": [
        "#info about column names, data types (Dtype), how many values NaN\n",
        "print(titanic_df.info())\n",
        "print()\n",
        "print(titanic_df.notna().all())\n",
        "print()\n",
        "print(titanic_df.isna().sum())"
      ],
      "metadata": {
        "colab": {
          "base_uri": "https://localhost:8080/"
        },
        "id": "puU3dyjdEV3G",
        "outputId": "e4a9dfb9-34f5-4bb1-be5c-35a8a31833f6"
      },
      "execution_count": null,
      "outputs": [
        {
          "output_type": "stream",
          "name": "stdout",
          "text": [
            "<class 'pandas.core.frame.DataFrame'>\n",
            "RangeIndex: 891 entries, 0 to 890\n",
            "Data columns (total 12 columns):\n",
            " #   Column       Non-Null Count  Dtype  \n",
            "---  ------       --------------  -----  \n",
            " 0   PassengerId  891 non-null    int64  \n",
            " 1   Survived     891 non-null    int64  \n",
            " 2   Pclass       891 non-null    int64  \n",
            " 3   Name         891 non-null    object \n",
            " 4   Sex          891 non-null    object \n",
            " 5   Age          714 non-null    float64\n",
            " 6   SibSp        891 non-null    int64  \n",
            " 7   Parch        891 non-null    int64  \n",
            " 8   Ticket       891 non-null    object \n",
            " 9   Fare         891 non-null    float64\n",
            " 10  Cabin        204 non-null    object \n",
            " 11  Embarked     889 non-null    object \n",
            "dtypes: float64(2), int64(5), object(5)\n",
            "memory usage: 83.7+ KB\n",
            "None\n",
            "\n",
            "PassengerId     True\n",
            "Survived        True\n",
            "Pclass          True\n",
            "Name            True\n",
            "Sex             True\n",
            "Age            False\n",
            "SibSp           True\n",
            "Parch           True\n",
            "Ticket          True\n",
            "Fare            True\n",
            "Cabin          False\n",
            "Embarked       False\n",
            "dtype: bool\n",
            "\n",
            "PassengerId      0\n",
            "Survived         0\n",
            "Pclass           0\n",
            "Name             0\n",
            "Sex              0\n",
            "Age            177\n",
            "SibSp            0\n",
            "Parch            0\n",
            "Ticket           0\n",
            "Fare             0\n",
            "Cabin          687\n",
            "Embarked         2\n",
            "dtype: int64\n"
          ]
        }
      ]
    },
    {
      "cell_type": "code",
      "source": [
        "#basic statistics (e.g., mean, median, min, max) for numerical columns\n",
        "print(titanic_df.describe())"
      ],
      "metadata": {
        "colab": {
          "base_uri": "https://localhost:8080/"
        },
        "id": "RjtUaqRjE_11",
        "outputId": "feda552e-7bfd-41ce-bb08-df2812b430cf"
      },
      "execution_count": null,
      "outputs": [
        {
          "output_type": "stream",
          "name": "stdout",
          "text": [
            "       PassengerId   Survived     Pclass        Age        SibSp       Parch       Fare   \n",
            "count  891.000000   891.000000  891.000000  714.000000  891.000000  891.000000  891.000000\n",
            "mean   446.000000     0.383838    2.308642   29.699118    0.523008    0.381594   32.204208\n",
            "std    257.353842     0.486592    0.836071   14.526497    1.102743    0.806057   49.693429\n",
            "min      1.000000     0.000000    1.000000    0.420000    0.000000    0.000000    0.000000\n",
            "25%    223.500000     0.000000    2.000000   20.125000    0.000000    0.000000    7.910400\n",
            "50%    446.000000     0.000000    3.000000   28.000000    0.000000    0.000000   14.454200\n",
            "75%    668.500000     1.000000    3.000000   38.000000    1.000000    0.000000   31.000000\n",
            "max    891.000000     1.000000    3.000000   80.000000    8.000000    6.000000  512.329200\n"
          ]
        }
      ]
    },
    {
      "cell_type": "code",
      "source": [
        "#categorical variables (e.g., value counts)\n",
        "print(titanic_df['Sex'].value_counts())\n",
        "print()\n",
        "print(titanic_df['Pclass'].value_counts())\n",
        "print()\n",
        "print(titanic_df['Embarked'].value_counts(dropna = False))\n",
        "print()\n",
        "print(titanic_df['Survived'].value_counts())"
      ],
      "metadata": {
        "colab": {
          "base_uri": "https://localhost:8080/"
        },
        "id": "gqQzMTcVFCqj",
        "outputId": "9ed4c812-8c69-4615-ffb9-874b6b950094"
      },
      "execution_count": null,
      "outputs": [
        {
          "output_type": "stream",
          "name": "stdout",
          "text": [
            "Sex\n",
            "male      577\n",
            "female    314\n",
            "Name: count, dtype: int64\n",
            "\n",
            "Pclass\n",
            "3    491\n",
            "1    216\n",
            "2    184\n",
            "Name: count, dtype: int64\n",
            "\n",
            "Embarked\n",
            "S      644\n",
            "C      168\n",
            "Q       77\n",
            "NaN      2\n",
            "Name: count, dtype: int64\n",
            "\n",
            "Survived\n",
            "0    549\n",
            "1    342\n",
            "Name: count, dtype: int64\n"
          ]
        }
      ]
    },
    {
      "cell_type": "code",
      "source": [
        "#Data Visualization\n",
        "\n",
        "sex_counts = titanic_df['Sex'].value_counts()\n",
        "colours = ['darkblue', 'darkmagenta']\n",
        "\n",
        "plt.bar(sex_counts.index.str.capitalize(), sex_counts.values, color=colours)\n",
        "plt.xlabel('Gender')\n",
        "plt.ylabel('Count')\n",
        "plt.title('Gender Distribution')\n",
        "plt.show()"
      ],
      "metadata": {
        "colab": {
          "base_uri": "https://localhost:8080/",
          "height": 472
        },
        "id": "qI0g5ku_KzTi",
        "outputId": "a1a736fc-348e-42e5-9518-d480e00f5ee7"
      },
      "execution_count": null,
      "outputs": [
        {
          "output_type": "display_data",
          "data": {
            "text/plain": [
              "<Figure size 640x480 with 1 Axes>"
            ],
            "image/png": "[encoded data removed]"
          },
          "metadata": {}
        }
      ]
    },
    {
      "cell_type": "code",
      "source": [
        "'''\n",
        "This groups the data by Sex and Survived, counts the occurrences, and then\n",
        "unstacks the Survived level to create separate columns for survivors (1) and non-survivors (0).\n",
        "'''\n",
        "survival_counts = titanic_df.groupby(['Sex', 'Survived']).size().unstack()\n",
        "\n",
        "capitalized_labels = survival_counts.index.str.capitalize()\n",
        "\n",
        "plt.bar(capitalized_labels, survival_counts[0], color='darkred', label='Did Not Survive')\n",
        "plt.bar(capitalized_labels, survival_counts[1], color='darkgreen', bottom=survival_counts[0], label='Survived')\n",
        "\n",
        "plt.xlabel('Gender')\n",
        "plt.ylabel('Count')\n",
        "plt.title('Survival Counts by Gender')\n",
        "plt.legend()\n",
        "\n",
        "plt.show()"
      ],
      "metadata": {
        "colab": {
          "base_uri": "https://localhost:8080/",
          "height": 472
        },
        "id": "PZD3_kSzN8zk",
        "outputId": "14493aff-9440-4690-8e63-f9d20a9549a4"
      },
      "execution_count": null,
      "outputs": [
        {
          "output_type": "display_data",
          "data": {
            "text/plain": [
              "<Figure size 640x480 with 1 Axes>"
            ],
            "image/png": "[encoded data removed]"
          },
          "metadata": {}
        }
      ]
    }
  ]
}